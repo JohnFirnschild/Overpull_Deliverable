{
 "cells": [
  {
   "cell_type": "code",
   "execution_count": 5,
   "metadata": {},
   "outputs": [
    {
     "name": "stdout",
     "output_type": "stream",
     "text": [
      "4\n"
     ]
    }
   ],
   "source": [
    "import arcpy\n",
    "\n",
    "bldg_count = arcpy.management.GetCount(\n",
    "    in_rows=r\"J:\\ArcMap\\Projects\\DARK_FIBER_OVERPULL\\GOOGLE_Overpull\\TASK3119066_BGWZ0843_LUMEN_NA_OMA_DEM_EGNU_QWEST_GOOGLE_SPAN_1\\LUMEN_NA_OMA_DEM_EGNU_QWEST_GOOGLE_SPAN_1.gdb\\LUMEN_SITES_NA_OMA_DEM_EGNU_QWEST_SPAN_1\"\n",
    ")\n",
    "\n",
    "print(bldg_count)"
   ]
  },
  {
   "cell_type": "code",
   "execution_count": 6,
   "metadata": {},
   "outputs": [],
   "source": [
    "file_path = r\"J:\\ArcMap\\Projects\\DARK_FIBER_OVERPULL\\GOOGLE_Overpull\\TASK3119066_BGWZ0843_LUMEN_NA_OMA_DEM_EGNU_QWEST_GOOGLE_SPAN_1\\metadata.txt\"\n",
    "\n",
    "# open the file with append mode\n",
    "with open(file_path, \"a\") as f:\n",
    "    f.write(\"\\nBuilding Count: \" + str(bldg_count) + \"\\n\")\n",
    "    f.close()"
   ]
  },
  {
   "cell_type": "code",
   "execution_count": null,
   "metadata": {},
   "outputs": [],
   "source": [
    "\"\"\"\n",
    "Dev Branch\n",
    "\n",
    "Tested successfully!\n",
    "\n",
    "ApplySymbology_Iterate_MV.py\n",
    "\n",
    "This script will iterate through a list of layers,\n",
    "It will Apply Symbolgy appropriatelya and \n",
    "and export a map view of each layer.\n",
    "\n",
    "\n",
    "Author: John Firnschild\n",
    "Written: 2023-10-15\n",
    "\n",
    "\"\"\"\n",
    "\n",
    "import arcpy, os\n",
    "\n",
    "# Set the workspace\n",
    "arcpy.env.workspace = r\"J:\\John_Firnschild\\APRX\"\n",
    "\n",
    "active_route = \"LUMEN_LH_ROUTE_NA_OMA_DEM_EGNU_QWEST_SPAN_1\"\n",
    "active_mh = \"LUMEN_MH_SPLICE_NA_OMA_DEM_EGNU_QWEST_SPAN_1\"\n",
    "active_sites = \"LUMEN_SITES_NA_OMA_DEM_EGNU_QWEST_SPAN_1\"\n",
    "output_location = r\"J:\\ArcMap\\Projects\\DARK_FIBER_OVERPULL\\GOOGLE_Overpull\\TASK3119066_BGWZ0843_LUMEN_NA_OMA_DEM_EGNU_QWEST_GOOGLE_SPAN_1\"\n",
    "\n",
    "# Set the ArcGIS Pro project and map view\n",
    "aprx = arcpy.mp.ArcGISProject(\"CURRENT\")\n",
    "# Use below if not in a current aprx\n",
    "# aprx = arcpy.mp.ArcGISProject(r\"J:\\ArcMap\\Projects\\DARK_FIBER_OVERPULL\\overpull.aprx\")\n",
    "\n",
    "# SET THE ACITVE MAP\n",
    "m = aprx.activeMap\n",
    "# LIST THE LAYERS\n",
    "lyrList = m.listLayers()\n",
    "\n",
    "# Define the layers you want to export\n",
    "layer_variables = {\n",
    "    \"Route\": m.listLayers(active_route)[0],\n",
    "    \"MH\": m.listLayers(active_mh)[0],\n",
    "    \"Site\": m.listLayers(active_sites)[0]\n",
    "}\n",
    "\n",
    "# Need to define symbology for each layer\n",
    "route_symb = r\"J:\\ArcMap\\Projects\\DARK_FIBER_OVERPULL\\LAYER_STYLE\\OVERPULL_ROUTE.lyrx\"\n",
    "mhsp_symb = r\"J:\\ArcMap\\Projects\\DARK_FIBER_OVERPULL\\LAYER_STYLE\\OVERPULL_MHSPLICE.lyrx\"\n",
    "site_symb = r\"J:\\ArcMap\\Projects\\DARK_FIBER_OVERPULL\\LAYER_STYLE\\OVERPULL_SITES.lyrx\"\n",
    "\n",
    "# Apply symbology to each layer\n",
    "def apply_symbology(layer_name, symbology_path):\n",
    "    layer = m.listLayers(layer_name)[0]\n",
    "    arcpy.management.ApplySymbologyFromLayer(\n",
    "        in_layer=layer,\n",
    "        in_symbology_layer=symbology_path,\n",
    "        symbology_fields=None,\n",
    "        update_symbology=\"DEFAULT\"\n",
    "    )\n",
    "\n",
    "# Define the layers and symbology paths\n",
    "layer_symbology = {\n",
    "    active_route: route_symb,\n",
    "    active_mh: mhsp_symb,\n",
    "    active_sites: site_symb\n",
    "}\n",
    "\n",
    "# Apply symbology to each layer\n",
    "for layer_name, symbology_path in layer_symbology.items():\n",
    "    apply_symbology(layer_name, symbology_path)\n",
    "\n",
    "\n",
    "\n",
    "\n",
    "# SET THE MAP VIEW\n",
    "mv = aprx.activeView\n",
    "\n",
    "# Calculate a buffer distance in map units (adjust this value as needed)\n",
    "buffer_distance = 0.1  # Example: 10,000 map units\n",
    "\n",
    "for layer_name, layer in layer_variables.items():\n",
    "    # Specify layer visibility\n",
    "    for lyr in layer_variables.values():\n",
    "        lyr.visible = False\n",
    "    layer.visible = True\n",
    "\n",
    "    # Write SQL Query to select all features in the specified layer\n",
    "    sql_query = '1=1'\n",
    "    arcpy.management.SelectLayerByAttribute(layer, 'NEW_SELECTION', sql_query)\n",
    "\n",
    "    # Zoom to all layers\n",
    "    mv.zoomToAllLayers()\n",
    "\n",
    "    # Modify the extent by adding a buffer around the features\n",
    "    extent = mv.camera.getExtent()\n",
    "    extent.XMin -= buffer_distance\n",
    "    extent.YMin -= buffer_distance\n",
    "    extent.XMax += buffer_distance\n",
    "    extent.YMax += buffer_distance\n",
    "    mv.camera.setExtent(extent)\n",
    "\n",
    "    # Clear Selection\n",
    "    arcpy.management.SelectLayerByAttribute(layer, 'CLEAR_SELECTION')\n",
    "\n",
    "    # Export the map view\n",
    "    output_file = os.path.join(output_location, f'{layer_name}_VIEW.png')\n",
    "    mv.exportToPNG(output_file, width=500, height=500, world_file=True, color_mode=\"32-BIT_WITH_ALPHA\")"
   ]
  },
  {
   "cell_type": "code",
   "execution_count": 4,
   "metadata": {},
   "outputs": [
    {
     "data": {
      "text/html": [
       "<div class='gpresult'><h2>Messages</h2><div id='messages' data-messages='[\"Start Time: Wednesday, November 22, 2023 8:47:39 AM\",\"Succeeded at Wednesday, November 22, 2023 8:48:15 AM (Elapsed Time: 35.07 seconds)\"]' data-show='true'><div id = 'default' /></div></div>"
      ],
      "text/plain": [
       "<Result 'LUMEN_LH_ROUTE_IL_CHICAGO_SPAN_1'>"
      ]
     },
     "execution_count": 4,
     "metadata": {},
     "output_type": "execute_result"
    }
   ],
   "source": [
    "##\n",
    "# This is just to apply the symbology without the pngs\n",
    "\n",
    "route_symb = r\"J:\\ArcMap\\Projects\\DARK_FIBER_OVERPULL\\LAYER_STYLE\\OVERPULL_ROUTE.lyrx\"\n",
    "mhsp_symb = r\"J:\\ArcMap\\Projects\\DARK_FIBER_OVERPULL\\LAYER_STYLE\\OVERPULL_MHSPLICE.lyrx\"\n",
    "site_symb = r\"J:\\ArcMap\\Projects\\DARK_FIBER_OVERPULL\\LAYER_STYLE\\OVERPULL_SITES.lyrx\"\n",
    "\n",
    "\n",
    "\n",
    "\n",
    "arcpy.management.ApplySymbologyFromLayer(\n",
    "    in_layer=\"LUMEN_MH_SPLICE_IL_CHICAGO_SPAN_1\",\n",
    "    in_symbology_layer=mhsp_symb,\n",
    "    symbology_fields=None,\n",
    "    update_symbology=\"DEFAULT\"\n",
    ")\n",
    "\n",
    "arcpy.management.ApplySymbologyFromLayer(\n",
    "    in_layer=\"LUMEN_SITES_IL_CHICAGO_SPAN_1\",\n",
    "    in_symbology_layer=site_symb,\n",
    "    symbology_fields=None,\n",
    "    update_symbology=\"DEFAULT\"\n",
    ")\n",
    "\n",
    "arcpy.management.ApplySymbologyFromLayer(\n",
    "    in_layer=\"LUMEN_LH_ROUTE_IL_CHICAGO_SPAN_1\",\n",
    "    in_symbology_layer=route_symb,\n",
    "    symbology_fields=None,\n",
    "    update_symbology=\"DEFAULT\"\n",
    ")"
   ]
  },
  {
   "cell_type": "code",
   "execution_count": null,
   "metadata": {},
   "outputs": [],
   "source": []
  }
 ],
 "metadata": {
  "kernelspec": {
   "display_name": "ArcGISPro",
   "language": "Python",
   "name": "python3"
  },
  "language_info": {
   "codemirror_mode": {
    "name": "ipython",
    "version": 3
   },
   "file_extension": ".py",
   "mimetype": "text/x-python",
   "name": "python",
   "nbconvert_exporter": "python",
   "pygments_lexer": "ipython3",
   "version": "3.9.16"
  }
 },
 "nbformat": 4,
 "nbformat_minor": 2
}
